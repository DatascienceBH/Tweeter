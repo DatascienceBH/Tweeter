{
 "cells": [
  {
   "cell_type": "markdown",
   "metadata": {},
   "source": [
    "# Scraping Twitter"
   ]
  },
  {
   "cell_type": "code",
   "execution_count": null,
   "metadata": {},
   "outputs": [],
   "source": [
    "from googletrans import Translator\n",
    "\n",
    "import pandas as pd\n",
    "import time\n",
    "import traceback\n",
    "import tweepy"
   ]
  },
  {
   "cell_type": "raw",
   "metadata": {},
   "source": [
    "First, you need to register yourself as a developer to get an access to Twitter API.\n",
    "\n",
    "https://developer.twitter.com/\n",
    "\n",
    "After completing the form you will get consumer/access keys. "
   ]
  },
  {
   "cell_type": "code",
   "execution_count": null,
   "metadata": {},
   "outputs": [],
   "source": [
    "#the values below are fake due to security reason. Substitute yours unique credentials.\n",
    "consumer_key = \"1q1q1q1q1q1q1q1q1q1q1q1q1q\"\n",
    "consumer_secret = \"2w2w2w2w2w2w2w2w2w2w2w2w2w2w2w2w\"\n",
    "access_token = \"12121212121221-4r4r4r4r4r4r4r4rr4\"\n",
    "access_token_secret = \"5t5t5t5t5t5t5t5t5t5t5t5t5t5t5t5\"\n",
    "\n",
    "auth = tweepy.OAuthHandler(consumer_key, consumer_secret)\n",
    "auth.set_access_token(access_token, access_token_secret)\n",
    "api = tweepy.API(auth,wait_on_rate_limit=True)"
   ]
  },
  {
   "cell_type": "markdown",
   "metadata": {},
   "source": [
    "The code below let you to scrape tweets from specific tweeter users. \n",
    "\n",
    "I have chosen to scrape 200 most recent tweets from three news media accounts. Scraped data I save in csv file."
   ]
  },
  {
   "cell_type": "code",
   "execution_count": null,
   "metadata": {},
   "outputs": [],
   "source": [
    "tweets, news_media = [], ['cnnbrk', 'BBCWorld', 'nytimes']\n",
    "\n",
    "count = 200\n",
    "\n",
    "try: \n",
    "    for news in news_media:\n",
    "        print('Scraping: ', news)\n",
    "        for tweet in api.user_timeline(id = news, count=count):\n",
    "            tweets.append((news, tweet.created_at, tweet.id, tweet.text))\n",
    "        time.sleep(15)    \n",
    "    df = pd.DataFrame(tweets, columns = ['news_media', 'created_at', 'tweet_id', 'text'])\n",
    "    df.to_csv('news_tweets.csv')\n",
    "    print(\"Completed.\")\n",
    "    \n",
    "except BaseException as e:\n",
    "    traceback.print_exc()"
   ]
  },
  {
   "cell_type": "markdown",
   "metadata": {},
   "source": [
    "The code below lets you to scrape tweets by keywords. You are getting most tweet with the keywords. Additionally, if the tweet was not in English, I would translate them into English. Save all data in csv.\n",
    "\n",
    "Therefore, I extract for every tweet: \n",
    "\n",
    "* time it was created_at\n",
    "* tweet_id \n",
    "* tweet text \n",
    "* username (unique tweeter username) \n",
    "* name (name written by user)\n",
    "* location (where the user is from)\n",
    "* followers_count (number of user's followers)\n",
    "* original language"
   ]
  },
  {
   "cell_type": "code",
   "execution_count": null,
   "metadata": {
    "scrolled": true
   },
   "outputs": [],
   "source": [
    "tweets, text_query = [], 'coronavirus OR virus OR covid-19 OR covid19 OR pandemic'\n",
    "count = 100\n",
    "\n",
    "try:\n",
    "    for tweet in api.search(q=text_query, count=count, result_type='recent',\n",
    "                           include_entities=True,\n",
    "                           monitor_rate_limit=True, \n",
    "                           wait_on_rate_limit=True):\n",
    "        tweet_text = ''\n",
    "            \n",
    "        try:\n",
    "            tr = Translator()\n",
    "            \n",
    "            if len(str(tweet.lang)) > 0 and tweet.lang not in ['en', 'und']:\n",
    "                tweet_text = tr.translate(tweet.text).text\n",
    "            else:\n",
    "                tweet_text = tweet.text\n",
    "                \n",
    "        except Exception as e:\n",
    "            traceback.print_exc()\n",
    "            pass\n",
    "        \n",
    "        tweets.append((tweet.created_at, tweet.id, tweet_text, tweet.user.screen_name, tweet.user.name, \n",
    "                               tweet.user.location, tweet.user.followers_count, tweet.lang))\n",
    "        \n",
    "        df = pd.DataFrame(tweets, columns = ['created_at', 'tweet_id', 'text', 'username', 'name', 'location', 'followers_count', 'lang'])\n",
    "        df.to_csv('tweets_by_keywords.csv')\n",
    "        time.sleep(3)\n",
    "        \n",
    "    print(\"Completed.\")\n",
    "    \n",
    "except BaseException as e:\n",
    "    traceback.print_exc()        "
   ]
  }
 ],
 "metadata": {
  "kernelspec": {
   "display_name": "Python 3",
   "language": "python",
   "name": "python3"
  },
  "language_info": {
   "codemirror_mode": {
    "name": "ipython",
    "version": 3
   },
   "file_extension": ".py",
   "mimetype": "text/x-python",
   "name": "python",
   "nbconvert_exporter": "python",
   "pygments_lexer": "ipython3",
   "version": "3.7.1"
  }
 },
 "nbformat": 4,
 "nbformat_minor": 2
}
